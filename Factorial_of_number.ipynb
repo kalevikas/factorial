{
 "cells": [
  {
   "cell_type": "code",
   "execution_count": 18,
   "id": "1dd06b72",
   "metadata": {},
   "outputs": [
    {
     "name": "stdout",
     "output_type": "stream",
     "text": [
      "120\n"
     ]
    }
   ],
   "source": [
    "# 5!=1*2*3*4*5 =120\n",
    "\n",
    "num=5\n",
    "factorial=1\n",
    "for i in range(1,num+1):\n",
    "    factorial=factorial*i\n",
    "print(factorial)\n"
   ]
  },
  {
   "cell_type": "code",
   "execution_count": 2,
   "id": "e37404d9",
   "metadata": {},
   "outputs": [
    {
     "data": {
      "text/plain": [
       "120"
      ]
     },
     "execution_count": 2,
     "metadata": {},
     "output_type": "execute_result"
    }
   ],
   "source": [
    "5*4*3*2*1"
   ]
  },
  {
   "cell_type": "code",
   "execution_count": 5,
   "id": "3226f2f6",
   "metadata": {},
   "outputs": [
    {
     "data": {
      "text/plain": [
       "24"
      ]
     },
     "execution_count": 5,
     "metadata": {},
     "output_type": "execute_result"
    }
   ],
   "source": [
    "1*2*3*4"
   ]
  },
  {
   "cell_type": "code",
   "execution_count": 19,
   "id": "87ed03da",
   "metadata": {},
   "outputs": [
    {
     "name": "stdout",
     "output_type": "stream",
     "text": [
      "Enter a number.9\n",
      "362880\n"
     ]
    }
   ],
   "source": [
    "num=int(input(\"Enter a number.\"))\n",
    "factorial=1\n",
    "for i in range(1,num+1):\n",
    "    factorial=factorial*i\n",
    "if num==0 or num==1:\n",
    "    print(\"factorial of\",num,\"is 1.\")\n",
    "if num<0:\n",
    "    print(\"Factorial does not exist.\")\n",
    "    \n",
    "print(factorial)"
   ]
  },
  {
   "cell_type": "code",
   "execution_count": 13,
   "id": "b3384216",
   "metadata": {},
   "outputs": [
    {
     "name": "stdout",
     "output_type": "stream",
     "text": [
      "Enter a number.7\n",
      "5040\n"
     ]
    }
   ],
   "source": [
    "num=int(input(\"Enter a number.\"))\n",
    "factorial=1\n",
    "for i in range(1,num+1):\n",
    "    factorial=factorial*i\n",
    "if num==0 or num==1:\n",
    "    print(\"factorial of\",num,\"is 1.\")\n",
    "elif num<0:\n",
    "    print(\"Factorial does not exist.\")\n",
    "    \n",
    "print(factorial)"
   ]
  },
  {
   "cell_type": "markdown",
   "id": "981809f3",
   "metadata": {},
   "source": [
    "# Write a program to print factorial of 1 to 10."
   ]
  },
  {
   "cell_type": "code",
   "execution_count": 16,
   "id": "e07972a5",
   "metadata": {},
   "outputs": [
    {
     "name": "stdout",
     "output_type": "stream",
     "text": [
      "Enter a number.10\n",
      "factorial of 1 is 1\n",
      "factorial of 2 is 2\n",
      "factorial of 3 is 6\n",
      "factorial of 4 is 24\n",
      "factorial of 5 is 120\n",
      "factorial of 6 is 720\n",
      "factorial of 7 is 5040\n",
      "factorial of 8 is 40320\n",
      "factorial of 9 is 362880\n",
      "factorial of 10 is 3628800\n"
     ]
    }
   ],
   "source": [
    "num=int(input(\"Enter a number.\"))\n",
    "fact=1\n",
    "if num<0:\n",
    "    print(\"factorial of\",num,\"is not exist.\")\n",
    "elif num==0 or num==1:\n",
    "    print(\"factorial of\",num,\"is\",fact)\n",
    "else: \n",
    "    for i in range(1,num+1):\n",
    "        fact=fact*i\n",
    "        \n",
    "        print(\"factorial of\",i,\"is\",fact)"
   ]
  },
  {
   "cell_type": "code",
   "execution_count": 20,
   "id": "aa52cf57",
   "metadata": {},
   "outputs": [
    {
     "data": {
      "text/plain": [
       "362880"
      ]
     },
     "execution_count": 20,
     "metadata": {},
     "output_type": "execute_result"
    }
   ],
   "source": [
    "1*2*3*4*5*6*7*8*9"
   ]
  },
  {
   "cell_type": "code",
   "execution_count": 19,
   "id": "78ed8225",
   "metadata": {},
   "outputs": [
    {
     "name": "stdout",
     "output_type": "stream",
     "text": [
      "Enter a number.6\n",
      "factorial of 6 is 720\n"
     ]
    }
   ],
   "source": [
    "num=int(input(\"Enter a number.\"))\n",
    "fact=1\n",
    "if num<0:\n",
    "    print(\"factorial of\",num,\"is not exist.\")\n",
    "elif num==0 or num==1:\n",
    "    print(\"factorial of\",num,\"is\",fact)\n",
    "else: \n",
    "    for i in range(1,num+1):\n",
    "        fact=fact*i\n",
    "        \n",
    "    print(\"factorial of\",i,\"is\",fact)"
   ]
  },
  {
   "cell_type": "markdown",
   "id": "7df97c45",
   "metadata": {},
   "source": [
    "# Using Function"
   ]
  },
  {
   "cell_type": "code",
   "execution_count": 9,
   "id": "fb4dba2a",
   "metadata": {},
   "outputs": [
    {
     "name": "stdout",
     "output_type": "stream",
     "text": [
      "120\n"
     ]
    }
   ],
   "source": [
    "def fact(n):\n",
    "    f=1\n",
    "    for i in range(1,n+1):\n",
    "        f=f*i\n",
    "    return f\n",
    "x=5\n",
    "result=fact(x)\n",
    "print(result)"
   ]
  },
  {
   "cell_type": "code",
   "execution_count": 16,
   "id": "00c8ac54",
   "metadata": {},
   "outputs": [
    {
     "name": "stdout",
     "output_type": "stream",
     "text": [
      "24\n"
     ]
    }
   ],
   "source": [
    "def factorial(num):\n",
    "    fact=1\n",
    "    \n",
    "    for i in range(1,num+1):\n",
    "        fact=fact*i\n",
    "    return fact\n",
    "\n",
    "x=4\n",
    "result=factorial(x)\n",
    "print(result)"
   ]
  },
  {
   "cell_type": "code",
   "execution_count": 18,
   "id": "f9c9ffa9",
   "metadata": {},
   "outputs": [
    {
     "name": "stdout",
     "output_type": "stream",
     "text": [
      "720\n"
     ]
    }
   ],
   "source": [
    "result=factorial(6)\n",
    "print(result)"
   ]
  },
  {
   "cell_type": "code",
   "execution_count": 30,
   "id": "71db0cf5",
   "metadata": {},
   "outputs": [],
   "source": [
    "def fact(number):\n",
    "    factorial=1\n",
    "    if number<0:\n",
    "        print(\"Factorial of this number does not exist!\")\n",
    "    else:\n",
    "        \n",
    "        for i in range(1,number+1):\n",
    "            factorial=factorial*i\n",
    "        return factorial"
   ]
  },
  {
   "cell_type": "code",
   "execution_count": 21,
   "id": "23064a1d",
   "metadata": {},
   "outputs": [
    {
     "data": {
      "text/plain": [
       "120"
      ]
     },
     "execution_count": 21,
     "metadata": {},
     "output_type": "execute_result"
    }
   ],
   "source": [
    "fact(5)"
   ]
  },
  {
   "cell_type": "code",
   "execution_count": 22,
   "id": "484eed0e",
   "metadata": {},
   "outputs": [
    {
     "data": {
      "text/plain": [
       "40320"
      ]
     },
     "execution_count": 22,
     "metadata": {},
     "output_type": "execute_result"
    }
   ],
   "source": [
    "fact(8)"
   ]
  },
  {
   "cell_type": "code",
   "execution_count": 23,
   "id": "ab3e69dd",
   "metadata": {},
   "outputs": [
    {
     "data": {
      "text/plain": [
       "3628800"
      ]
     },
     "execution_count": 23,
     "metadata": {},
     "output_type": "execute_result"
    }
   ],
   "source": [
    "fact(10)"
   ]
  },
  {
   "cell_type": "code",
   "execution_count": 24,
   "id": "89e4cf3f",
   "metadata": {},
   "outputs": [
    {
     "data": {
      "text/plain": [
       "362880"
      ]
     },
     "execution_count": 24,
     "metadata": {},
     "output_type": "execute_result"
    }
   ],
   "source": [
    "fact(9)"
   ]
  },
  {
   "cell_type": "code",
   "execution_count": 25,
   "id": "9e49fd6e",
   "metadata": {},
   "outputs": [
    {
     "data": {
      "text/plain": [
       "479001600"
      ]
     },
     "execution_count": 25,
     "metadata": {},
     "output_type": "execute_result"
    }
   ],
   "source": [
    "fact(12)"
   ]
  },
  {
   "cell_type": "code",
   "execution_count": 26,
   "id": "311a0454",
   "metadata": {},
   "outputs": [
    {
     "data": {
      "text/plain": [
       "1"
      ]
     },
     "execution_count": 26,
     "metadata": {},
     "output_type": "execute_result"
    }
   ],
   "source": [
    "fact(0)"
   ]
  },
  {
   "cell_type": "code",
   "execution_count": 31,
   "id": "b4e51cb1",
   "metadata": {},
   "outputs": [
    {
     "name": "stdout",
     "output_type": "stream",
     "text": [
      "Factorial of this number does not exist!\n"
     ]
    }
   ],
   "source": [
    "fact(-1)"
   ]
  },
  {
   "cell_type": "code",
   "execution_count": 32,
   "id": "aa6b9e13",
   "metadata": {},
   "outputs": [
    {
     "name": "stdout",
     "output_type": "stream",
     "text": [
      "Factorial of this number does not exist!\n"
     ]
    }
   ],
   "source": [
    "fact(-5)"
   ]
  },
  {
   "cell_type": "code",
   "execution_count": 33,
   "id": "1f3b1b2e",
   "metadata": {},
   "outputs": [
    {
     "data": {
      "text/plain": [
       "120"
      ]
     },
     "execution_count": 33,
     "metadata": {},
     "output_type": "execute_result"
    }
   ],
   "source": [
    "fact(5)"
   ]
  },
  {
   "cell_type": "code",
   "execution_count": 34,
   "id": "cd9e693d",
   "metadata": {},
   "outputs": [
    {
     "data": {
      "text/plain": [
       "24"
      ]
     },
     "execution_count": 34,
     "metadata": {},
     "output_type": "execute_result"
    }
   ],
   "source": [
    "fact(4)"
   ]
  },
  {
   "cell_type": "code",
   "execution_count": 35,
   "id": "f866f52b",
   "metadata": {},
   "outputs": [
    {
     "data": {
      "text/plain": [
       "6"
      ]
     },
     "execution_count": 35,
     "metadata": {},
     "output_type": "execute_result"
    }
   ],
   "source": [
    "fact(3)"
   ]
  },
  {
   "cell_type": "markdown",
   "id": "4de60852",
   "metadata": {},
   "source": [
    "# Recursion Method"
   ]
  },
  {
   "cell_type": "code",
   "execution_count": 38,
   "id": "68b7d7d4",
   "metadata": {},
   "outputs": [
    {
     "name": "stdout",
     "output_type": "stream",
     "text": [
      "Help on built-in function getrecursionlimit in module sys:\n",
      "\n",
      "getrecursionlimit()\n",
      "    Return the current value of the recursion limit.\n",
      "    \n",
      "    The recursion limit is the maximum depth of the Python interpreter\n",
      "    stack.  This limit prevents infinite recursion from causing an overflow\n",
      "    of the C stack and crashing Python.\n",
      "\n"
     ]
    }
   ],
   "source": [
    "help(sys.getrecursionlimit)"
   ]
  },
  {
   "cell_type": "code",
   "execution_count": 37,
   "id": "7a3d4f47",
   "metadata": {},
   "outputs": [
    {
     "name": "stdout",
     "output_type": "stream",
     "text": [
      "3000\n"
     ]
    }
   ],
   "source": [
    "import sys    # import built in funcion sys. to check limit of function.\n",
    "x=sys.getrecursionlimit()  #  Return the current value of the recursion limit.\n",
    "print(x)"
   ]
  },
  {
   "cell_type": "markdown",
   "id": "be291f26",
   "metadata": {},
   "source": [
    "# Factorial using recursion method"
   ]
  },
  {
   "cell_type": "raw",
   "id": "44f6a2bb",
   "metadata": {},
   "source": [
    "If a function calling itself is called recursion."
   ]
  },
  {
   "cell_type": "code",
   "execution_count": 44,
   "id": "300b70a3",
   "metadata": {},
   "outputs": [
    {
     "data": {
      "text/plain": [
       "120"
      ]
     },
     "execution_count": 44,
     "metadata": {},
     "output_type": "execute_result"
    }
   ],
   "source": [
    "def fact(n):\n",
    "    if n==0:\n",
    "        return 1\n",
    "    return n*fact(n-1)\n",
    "fact(5)"
   ]
  },
  {
   "cell_type": "code",
   "execution_count": 45,
   "id": "86f42c4d",
   "metadata": {},
   "outputs": [
    {
     "data": {
      "text/plain": [
       "24"
      ]
     },
     "execution_count": 45,
     "metadata": {},
     "output_type": "execute_result"
    }
   ],
   "source": [
    "fact(4)"
   ]
  },
  {
   "cell_type": "code",
   "execution_count": 50,
   "id": "75d78abe",
   "metadata": {},
   "outputs": [
    {
     "name": "stdout",
     "output_type": "stream",
     "text": [
      "Enter a number: 5\n"
     ]
    },
    {
     "data": {
      "text/plain": [
       "120"
      ]
     },
     "execution_count": 50,
     "metadata": {},
     "output_type": "execute_result"
    }
   ],
   "source": [
    "num=int(input(\"Enter a number: \"))\n",
    "\n",
    "def factorial(num):\n",
    "    if num==0:\n",
    "        return 1\n",
    "    elif num<0:\n",
    "        return \"The factorial of this number does not exist!\"\n",
    "    result=num*factorial(num-1)\n",
    "    \n",
    "    return result\n",
    "\n",
    "factorial(num)"
   ]
  },
  {
   "cell_type": "code",
   "execution_count": 51,
   "id": "91193a8f",
   "metadata": {},
   "outputs": [
    {
     "data": {
      "text/plain": [
       "'The factorial of this number does not exist!'"
      ]
     },
     "execution_count": 51,
     "metadata": {},
     "output_type": "execute_result"
    }
   ],
   "source": [
    "factorial(-2)"
   ]
  },
  {
   "cell_type": "code",
   "execution_count": 52,
   "id": "6af5ecca",
   "metadata": {},
   "outputs": [
    {
     "data": {
      "text/plain": [
       "'The factorial of this number does not exist!'"
      ]
     },
     "execution_count": 52,
     "metadata": {},
     "output_type": "execute_result"
    }
   ],
   "source": [
    "factorial(-5)"
   ]
  },
  {
   "cell_type": "code",
   "execution_count": 53,
   "id": "270d7819",
   "metadata": {},
   "outputs": [
    {
     "data": {
      "text/plain": [
       "24"
      ]
     },
     "execution_count": 53,
     "metadata": {},
     "output_type": "execute_result"
    }
   ],
   "source": [
    "factorial(4)"
   ]
  },
  {
   "cell_type": "code",
   "execution_count": 56,
   "id": "3375268d",
   "metadata": {},
   "outputs": [
    {
     "name": "stdout",
     "output_type": "stream",
     "text": [
      "Enter a number: 4\n",
      "4!= 24\n"
     ]
    }
   ],
   "source": [
    "num=int(input(\"Enter a number: \"))\n",
    "fact=1\n",
    "for i in range(1,num+1):\n",
    "    if num<0:\n",
    "        print(\"Factorial of this number does not exist!\")\n",
    "    elif num==0:\n",
    "        print('1')\n",
    "    fact=fact*i\n",
    "print(\"{}!= {}\".format(num,fact))      # {} => this symbol is called place-holder."
   ]
  },
  {
   "cell_type": "code",
   "execution_count": 58,
   "id": "df47e4d6",
   "metadata": {},
   "outputs": [
    {
     "name": "stdout",
     "output_type": "stream",
     "text": [
      "Enter a number: 5\n",
      "5!= 120\n"
     ]
    }
   ],
   "source": [
    "num=int(input(\"Enter a number: \"))     # if we enter num=5\n",
    "fact=1                                # Initialize fact value is 1\n",
    "for i in range(1,num+1):              # in i = 1,2,3,4,5\n",
    "    if num<0:                         # if this condition true then print below statement.\n",
    "        print(\"Factorial of this number does not exist!\")\n",
    "    elif num==0:                  # if this condition true then print below statement.\n",
    "        print('1')\n",
    "    fact=fact*i                    # 1st:fact=1*1,2nd:fact=1*2=2, 3rd : fact=2*3=6, 4th: fact=6*4=24,5th: fact=24*5=120\n",
    "print(\"{}!= {}\".format(num,fact))      # {} => this symbol is called place-holder."
   ]
  },
  {
   "cell_type": "code",
   "execution_count": 59,
   "id": "09a57f70",
   "metadata": {},
   "outputs": [
    {
     "data": {
      "text/plain": [
       "120"
      ]
     },
     "execution_count": 59,
     "metadata": {},
     "output_type": "execute_result"
    }
   ],
   "source": [
    "24*5"
   ]
  },
  {
   "cell_type": "code",
   "execution_count": null,
   "id": "c4cc2ade",
   "metadata": {},
   "outputs": [],
   "source": []
  }
 ],
 "metadata": {
  "kernelspec": {
   "display_name": "Python 3",
   "language": "python",
   "name": "python3"
  },
  "language_info": {
   "codemirror_mode": {
    "name": "ipython",
    "version": 3
   },
   "file_extension": ".py",
   "mimetype": "text/x-python",
   "name": "python",
   "nbconvert_exporter": "python",
   "pygments_lexer": "ipython3",
   "version": "3.8.8"
  }
 },
 "nbformat": 4,
 "nbformat_minor": 5
}
